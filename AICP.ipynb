{
 "cells": [
  {
   "cell_type": "code",
   "execution_count": 1,
   "metadata": {},
   "outputs": [
    {
     "name": "stdout",
     "output_type": "stream",
     "text": [
      "Collecting package metadata (current_repodata.json): ...working... done\n",
      "Solving environment: ...working... done\n",
      "\n",
      "## Package Plan ##\n",
      "\n",
      "  environment location: C:\\Users\\huyid\\anaconda3\\envs\\new\n",
      "\n",
      "  added / updated specs:\n",
      "    - quandl\n",
      "\n",
      "\n",
      "The following packages will be downloaded:\n",
      "\n",
      "    package                    |            build\n",
      "    ---------------------------|-----------------\n",
      "    ca-certificates-2022.3.29  |       haa95532_0         122 KB\n",
      "    cryptography-36.0.0        |   py39h21b164f_0         1.0 MB\n",
      "    more-itertools-8.12.0      |     pyhd3eb1b0_0          49 KB\n",
      "    openssl-1.1.1n             |       h2bbff1b_0         4.8 MB\n",
      "    pyopenssl-22.0.0           |     pyhd3eb1b0_0          50 KB\n",
      "    quandl-3.6.1               |   py39haa95532_0          53 KB\n",
      "    ------------------------------------------------------------\n",
      "                                           Total:         6.2 MB\n",
      "\n",
      "The following NEW packages will be INSTALLED:\n",
      "\n",
      "  brotlipy           pkgs/main/win-64::brotlipy-0.7.0-py39h2bbff1b_1003\n",
      "  charset-normalizer pkgs/main/noarch::charset-normalizer-2.0.4-pyhd3eb1b0_0\n",
      "  cryptography       pkgs/main/win-64::cryptography-36.0.0-py39h21b164f_0\n",
      "  idna               pkgs/main/noarch::idna-3.3-pyhd3eb1b0_0\n",
      "  inflection         pkgs/main/win-64::inflection-0.5.1-py39haa95532_0\n",
      "  more-itertools     pkgs/main/noarch::more-itertools-8.12.0-pyhd3eb1b0_0\n",
      "  pyopenssl          pkgs/main/noarch::pyopenssl-22.0.0-pyhd3eb1b0_0\n",
      "  pysocks            pkgs/main/win-64::pysocks-1.7.1-py39haa95532_0\n",
      "  quandl             pkgs/main/win-64::quandl-3.6.1-py39haa95532_0\n",
      "  requests           pkgs/main/noarch::requests-2.27.1-pyhd3eb1b0_0\n",
      "  urllib3            pkgs/main/noarch::urllib3-1.26.8-pyhd3eb1b0_0\n",
      "  win_inet_pton      pkgs/main/win-64::win_inet_pton-1.1.0-py39haa95532_0\n",
      "\n",
      "The following packages will be UPDATED:\n",
      "\n",
      "  ca-certificates                       2022.2.1-haa95532_0 --> 2022.3.29-haa95532_0\n",
      "  openssl                                 1.1.1m-h2bbff1b_0 --> 1.1.1n-h2bbff1b_0\n",
      "\n",
      "\n",
      "\n",
      "Downloading and Extracting Packages\n",
      "\n",
      "quandl-3.6.1         | 53 KB     |            |   0% \n",
      "quandl-3.6.1         | 53 KB     | ###        |  30% \n",
      "quandl-3.6.1         | 53 KB     | ########## | 100% \n",
      "\n",
      "cryptography-36.0.0  | 1.0 MB    |            |   0% \n",
      "cryptography-36.0.0  | 1.0 MB    | ########## | 100% \n",
      "cryptography-36.0.0  | 1.0 MB    | ########## | 100% \n",
      "\n",
      "openssl-1.1.1n       | 4.8 MB    |            |   0% \n",
      "openssl-1.1.1n       | 4.8 MB    | #######2   |  73% \n",
      "openssl-1.1.1n       | 4.8 MB    | ########## | 100% \n",
      "\n",
      "ca-certificates-2022 | 122 KB    |            |   0% \n",
      "ca-certificates-2022 | 122 KB    | ########## | 100% \n",
      "\n",
      "pyopenssl-22.0.0     | 50 KB     |            |   0% \n",
      "\n",
      "Note: you may need to restart the kernel to use updated packages.\n",
      "pyopenssl-22.0.0     | 50 KB     | ########## | 100% \n",
      "\n",
      "more-itertools-8.12. | 49 KB     |            |   0% \n",
      "more-itertools-8.12. | 49 KB     | ########## | 100% \n",
      "Preparing transaction: ...working... done\n",
      "Verifying transaction: ...working... done\n",
      "Executing transaction: ...working... done\n"
     ]
    }
   ],
   "source": [
    "conda install quandl"
   ]
  },
  {
   "cell_type": "code",
   "execution_count": 2,
   "metadata": {},
   "outputs": [],
   "source": [
    "from sklearn.linear_model import LinearRegression\n",
    "# numpy and pandas will be used for data manipulation\n",
    "import numpy as np\n",
    "import pandas as pd\n",
    "# matplotlib will be used for visually representing our data\n",
    "import matplotlib.pyplot as plt\n",
    "# Quandl will be used for importing historical oil prices\n",
    "import quandl"
   ]
  },
  {
   "cell_type": "code",
   "execution_count": 3,
   "metadata": {},
   "outputs": [
    {
     "ename": "SyntaxError",
     "evalue": "invalid syntax (1737289922.py, line 2)",
     "output_type": "error",
     "traceback": [
      "\u001b[1;36m  Input \u001b[1;32mIn [3]\u001b[1;36m\u001b[0m\n\u001b[1;33m    quandl.ApiConfig.api_key = <Your API key>\u001b[0m\n\u001b[1;37m                               ^\u001b[0m\n\u001b[1;31mSyntaxError\u001b[0m\u001b[1;31m:\u001b[0m invalid syntax\n"
     ]
    }
   ],
   "source": [
    " # Setting our API key\n",
    "quandl.ApiConfig.api_key = <Your API key>\n",
    "\n",
    "# Importing our data\n",
    "data = quandl.get(\"FRED/DCOILBRENTEU\", start_date=\"2000-01-01\", end_date=\"2022-04-11\")"
   ]
  },
  {
   "cell_type": "code",
   "execution_count": null,
   "metadata": {},
   "outputs": [],
   "source": []
  }
 ],
 "metadata": {
  "interpreter": {
   "hash": "8053d638fea2f201b2d106361bad1247d1025857bae895a7ad20de6e30071d36"
  },
  "kernelspec": {
   "display_name": "Python 3.9.7 ('new')",
   "language": "python",
   "name": "python3"
  },
  "language_info": {
   "codemirror_mode": {
    "name": "ipython",
    "version": 3
   },
   "file_extension": ".py",
   "mimetype": "text/x-python",
   "name": "python",
   "nbconvert_exporter": "python",
   "pygments_lexer": "ipython3",
   "version": "3.9.7"
  },
  "orig_nbformat": 4
 },
 "nbformat": 4,
 "nbformat_minor": 2
}
