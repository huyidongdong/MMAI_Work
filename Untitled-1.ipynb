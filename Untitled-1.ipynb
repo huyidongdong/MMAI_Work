{
 "cells": [
  {
   "cell_type": "code",
   "execution_count": 2,
   "metadata": {},
   "outputs": [],
   "source": [
    "import numpy as np\n",
    "import pandas as pd\n",
    "import matplotlib.pyplot as plt\n",
    "from time import time"
   ]
  },
  {
   "cell_type": "code",
   "execution_count": 12,
   "metadata": {},
   "outputs": [],
   "source": [
    "def get_time(fun, *args, **kwargs):\n",
    "    start = time()\n",
    "    res = fun(*args, **kwargs)\n",
    "    return time() - start, res"
   ]
  },
  {
   "cell_type": "code",
   "execution_count": 8,
   "metadata": {},
   "outputs": [],
   "source": [
    "\n",
    "def simulation4(start=1000, end=10000, step=1000, n=None, k=10):\n",
    "    # Randomly generate matrix A (m by n)\n",
    "    generate = lambda m, n: np.random.randn(m, n) if n else np.random.randn(k*m, m)\n",
    "    # pseudo-inverse of matrix A\n",
    "    A_psinv = np.linalg.inv(A.T @ A) @ A.T\n",
    "    # decompose matrix A\n",
    "    Q, R = np.linalg.qr(A)\n",
    "    # simplified pseudo-inverse of matrix A\n",
    "    A_qrpsinvbyqr = np.linalg.inv(R) @ Q.T \n",
    "    delta_psinv = np.average(abs(A_psinv - A_psinvbyqr))\n",
    "\n",
    "\n",
    "    # time of delta_psinv\n",
    "    time_dict = {'delta_psinv': [], 'A_psinv': [], 'qr decomposition': [],'A_qrpsinv': []}\n",
    "    length = np.arange(start, end, step)\n",
    "    print(\"length=\",length)\n",
    "\n",
    "    return length, time_dict"
   ]
  },
  {
   "cell_type": "code",
   "execution_count": 9,
   "metadata": {},
   "outputs": [
    {
     "data": {
      "text/plain": [
       "(10, 10)"
      ]
     },
     "execution_count": 9,
     "metadata": {},
     "output_type": "execute_result"
    }
   ],
   "source": [
    "generate = lambda m, n: np.random.randn(m, n) if n else np.random.randn(k*m, m)\n",
    "A = generate(10,10)\n",
    "A.shape"
   ]
  },
  {
   "cell_type": "code",
   "execution_count": 10,
   "metadata": {},
   "outputs": [
    {
     "name": "stdout",
     "output_type": "stream",
     "text": [
      "length= [1000 2000 3000 4000 5000 6000 7000 8000 9000]\n"
     ]
    }
   ],
   "source": [
    "length, times = simulation4(start=1000, end=10000, step=1000, n=1000)\n"
   ]
  },
  {
   "cell_type": "code",
   "execution_count": null,
   "metadata": {},
   "outputs": [],
   "source": []
  }
 ],
 "metadata": {
  "interpreter": {
   "hash": "8053d638fea2f201b2d106361bad1247d1025857bae895a7ad20de6e30071d36"
  },
  "kernelspec": {
   "display_name": "Python 3.9.7 ('new')",
   "language": "python",
   "name": "python3"
  },
  "language_info": {
   "codemirror_mode": {
    "name": "ipython",
    "version": 3
   },
   "file_extension": ".py",
   "mimetype": "text/x-python",
   "name": "python",
   "nbconvert_exporter": "python",
   "pygments_lexer": "ipython3",
   "version": "3.9.7"
  },
  "orig_nbformat": 4
 },
 "nbformat": 4,
 "nbformat_minor": 2
}
