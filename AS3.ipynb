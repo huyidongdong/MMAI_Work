{
 "cells": [
  {
   "cell_type": "code",
   "execution_count": 1,
   "metadata": {},
   "outputs": [],
   "source": [
    "import pandas as pd\n",
    "import numpy as np"
   ]
  },
  {
   "cell_type": "code",
   "execution_count": 2,
   "metadata": {},
   "outputs": [],
   "source": [
    "data = pd.read_csv(r'C:\\Users\\huyid\\Desktop\\reviews.csv', delimiter='\\t')"
   ]
  },
  {
   "cell_type": "code",
   "execution_count": 4,
   "metadata": {},
   "outputs": [
    {
     "data": {
      "text/html": [
       "<div>\n",
       "<style scoped>\n",
       "    .dataframe tbody tr th:only-of-type {\n",
       "        vertical-align: middle;\n",
       "    }\n",
       "\n",
       "    .dataframe tbody tr th {\n",
       "        vertical-align: top;\n",
       "    }\n",
       "\n",
       "    .dataframe thead th {\n",
       "        text-align: right;\n",
       "    }\n",
       "</style>\n",
       "<table border=\"1\" class=\"dataframe\">\n",
       "  <thead>\n",
       "    <tr style=\"text-align: right;\">\n",
       "      <th></th>\n",
       "      <th>Name</th>\n",
       "      <th>RatingValue</th>\n",
       "      <th>DatePublished</th>\n",
       "      <th>Review</th>\n",
       "    </tr>\n",
       "  </thead>\n",
       "  <tbody>\n",
       "    <tr>\n",
       "      <th>0</th>\n",
       "      <td>Playa Cabana</td>\n",
       "      <td>4</td>\n",
       "      <td>2020-02-26</td>\n",
       "      <td>I was tasked with finding a spot for a group d...</td>\n",
       "    </tr>\n",
       "    <tr>\n",
       "      <th>1</th>\n",
       "      <td>Playa Cabana</td>\n",
       "      <td>3</td>\n",
       "      <td>2019-08-04</td>\n",
       "      <td>Went here with my friends and family. I liked ...</td>\n",
       "    </tr>\n",
       "    <tr>\n",
       "      <th>2</th>\n",
       "      <td>Playa Cabana</td>\n",
       "      <td>3</td>\n",
       "      <td>2019-08-24</td>\n",
       "      <td>Surprisingly good Flautas! They came as 3 roll...</td>\n",
       "    </tr>\n",
       "    <tr>\n",
       "      <th>3</th>\n",
       "      <td>Playa Cabana</td>\n",
       "      <td>4</td>\n",
       "      <td>2019-06-06</td>\n",
       "      <td>As a Mexican I always crave authentic Mexican ...</td>\n",
       "    </tr>\n",
       "    <tr>\n",
       "      <th>4</th>\n",
       "      <td>Playa Cabana</td>\n",
       "      <td>5</td>\n",
       "      <td>2020-05-25</td>\n",
       "      <td>Best tacos I've ever had. Both locations are g...</td>\n",
       "    </tr>\n",
       "  </tbody>\n",
       "</table>\n",
       "</div>"
      ],
      "text/plain": [
       "           Name  RatingValue DatePublished  \\\n",
       "0  Playa Cabana            4    2020-02-26   \n",
       "1  Playa Cabana            3    2019-08-04   \n",
       "2  Playa Cabana            3    2019-08-24   \n",
       "3  Playa Cabana            4    2019-06-06   \n",
       "4  Playa Cabana            5    2020-05-25   \n",
       "\n",
       "                                              Review  \n",
       "0  I was tasked with finding a spot for a group d...  \n",
       "1  Went here with my friends and family. I liked ...  \n",
       "2  Surprisingly good Flautas! They came as 3 roll...  \n",
       "3  As a Mexican I always crave authentic Mexican ...  \n",
       "4  Best tacos I've ever had. Both locations are g...  "
      ]
     },
     "execution_count": 4,
     "metadata": {},
     "output_type": "execute_result"
    }
   ],
   "source": [
    "data.head()"
   ]
  },
  {
   "cell_type": "code",
   "execution_count": 1,
   "metadata": {},
   "outputs": [
    {
     "ename": "ModuleNotFoundError",
     "evalue": "No module named 'pyabsa'",
     "output_type": "error",
     "traceback": [
      "\u001b[1;31m---------------------------------------------------------------------------\u001b[0m",
      "\u001b[1;31mModuleNotFoundError\u001b[0m                       Traceback (most recent call last)",
      "\u001b[1;32mUntitled-1.ipynb Cell 5\u001b[0m in \u001b[0;36m<cell line: 1>\u001b[1;34m()\u001b[0m\n\u001b[1;32m----> <a href='vscode-notebook-cell:Untitled-1.ipynb?jupyter-notebook#ch0000004untitled?line=0'>1</a>\u001b[0m \u001b[39mfrom\u001b[39;00m \u001b[39mpyabsa\u001b[39;00m\u001b[39m.\u001b[39;00m\u001b[39mfunctional\u001b[39;00m \u001b[39mimport\u001b[39;00m ATEPCModelList\n\u001b[0;32m      <a href='vscode-notebook-cell:Untitled-1.ipynb?jupyter-notebook#ch0000004untitled?line=1'>2</a>\u001b[0m \u001b[39mfrom\u001b[39;00m \u001b[39mpyabsa\u001b[39;00m\u001b[39m.\u001b[39;00m\u001b[39mfunctional\u001b[39;00m \u001b[39mimport\u001b[39;00m Trainer, ATEPCTrainer\n\u001b[0;32m      <a href='vscode-notebook-cell:Untitled-1.ipynb?jupyter-notebook#ch0000004untitled?line=2'>3</a>\u001b[0m \u001b[39mfrom\u001b[39;00m \u001b[39mpyabsa\u001b[39;00m\u001b[39m.\u001b[39;00m\u001b[39mfunctional\u001b[39;00m \u001b[39mimport\u001b[39;00m ABSADatasetList\n",
      "\u001b[1;31mModuleNotFoundError\u001b[0m: No module named 'pyabsa'"
     ]
    }
   ],
   "source": [
    "from pyabsa.functional import ATEPCModelList\n",
    "from pyabsa.functional import Trainer, ATEPCTrainer\n",
    "from pyabsa.functional import ABSADatasetList\n",
    "from pyabsa.functional import ATEPCConfigManager\n",
    "\n",
    "atepc_config = ATEPCConfigManager.get_atepc_config_english()\n",
    "\n",
    "atepc_config.pretrained_bert = 'microsoft/deberta-v3-base'\n",
    "atepc_config.model = ATEPCModelList.FAST_LCF_ATEPC\n",
    "dataset_path = ABSADatasetList.Restaurant14\n",
    "# or your local dataset: dataset_path = 'your local dataset path'\n",
    "\n",
    "aspect_extractor = ATEPCTrainer(config=atepc_config,\n",
    "                                dataset=dataset_path,\n",
    "                                from_checkpoint='',  # set checkpoint to train on the checkpoint.\n",
    "                                checkpoint_save_mode=1,\n",
    "                                auto_device=True\n",
    "                                ).load_trained_model()"
   ]
  },
  {
   "cell_type": "code",
   "execution_count": null,
   "metadata": {},
   "outputs": [],
   "source": []
  }
 ],
 "metadata": {
  "kernelspec": {
   "display_name": "Python 3.9.7 ('base')",
   "language": "python",
   "name": "python3"
  },
  "language_info": {
   "codemirror_mode": {
    "name": "ipython",
    "version": 3
   },
   "file_extension": ".py",
   "mimetype": "text/x-python",
   "name": "python",
   "nbconvert_exporter": "python",
   "pygments_lexer": "ipython3",
   "version": "3.9.7"
  },
  "orig_nbformat": 4,
  "vscode": {
   "interpreter": {
    "hash": "08a8f7c9b23c59fcda95642d8863587fab6c74df0dd3b7c9d9c16ef8094e1120"
   }
  }
 },
 "nbformat": 4,
 "nbformat_minor": 2
}
